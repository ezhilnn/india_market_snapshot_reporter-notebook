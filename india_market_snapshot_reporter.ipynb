{
  "cells": [
    {
      "cell_type": "markdown",
      "metadata": {
        "id": "view-in-github",
        "colab_type": "text"
      },
      "source": [
        "<a href=\"https://colab.research.google.com/github/ezhilnn/india_market_snapshot_reporter-notebook/blob/main/india_market_snapshot_reporter.ipynb\" target=\"_parent\"><img src=\"https://colab.research.google.com/assets/colab-badge.svg\" alt=\"Open In Colab\"/></a>"
      ]
    },
    {
      "cell_type": "code",
      "execution_count": null,
      "metadata": {
        "colab": {
          "base_uri": "https://localhost:8080/"
        },
        "id": "BBvh0tHt5RWj",
        "outputId": "20f24ef6-bd60-4011-991a-bbc13d569abc"
      },
      "outputs": [
        {
          "output_type": "stream",
          "name": "stdout",
          "text": [
            "Requirement already satisfied: yfinance in /usr/local/lib/python3.12/dist-packages (0.2.66)\n",
            "Requirement already satisfied: pandas in /usr/local/lib/python3.12/dist-packages (2.2.2)\n",
            "Requirement already satisfied: requests in /usr/local/lib/python3.12/dist-packages (2.32.4)\n",
            "Requirement already satisfied: beautifulsoup4 in /usr/local/lib/python3.12/dist-packages (4.13.5)\n",
            "Requirement already satisfied: nltk in /usr/local/lib/python3.12/dist-packages (3.9.1)\n",
            "Requirement already satisfied: numpy>=1.16.5 in /usr/local/lib/python3.12/dist-packages (from yfinance) (2.0.2)\n",
            "Requirement already satisfied: multitasking>=0.0.7 in /usr/local/lib/python3.12/dist-packages (from yfinance) (0.0.12)\n",
            "Requirement already satisfied: platformdirs>=2.0.0 in /usr/local/lib/python3.12/dist-packages (from yfinance) (4.4.0)\n",
            "Requirement already satisfied: pytz>=2022.5 in /usr/local/lib/python3.12/dist-packages (from yfinance) (2025.2)\n",
            "Requirement already satisfied: frozendict>=2.3.4 in /usr/local/lib/python3.12/dist-packages (from yfinance) (2.4.6)\n",
            "Requirement already satisfied: peewee>=3.16.2 in /usr/local/lib/python3.12/dist-packages (from yfinance) (3.18.2)\n",
            "Requirement already satisfied: curl_cffi>=0.7 in /usr/local/lib/python3.12/dist-packages (from yfinance) (0.13.0)\n",
            "Requirement already satisfied: protobuf>=3.19.0 in /usr/local/lib/python3.12/dist-packages (from yfinance) (5.29.5)\n",
            "Requirement already satisfied: websockets>=13.0 in /usr/local/lib/python3.12/dist-packages (from yfinance) (15.0.1)\n",
            "Requirement already satisfied: python-dateutil>=2.8.2 in /usr/local/lib/python3.12/dist-packages (from pandas) (2.9.0.post0)\n",
            "Requirement already satisfied: tzdata>=2022.7 in /usr/local/lib/python3.12/dist-packages (from pandas) (2025.2)\n",
            "Requirement already satisfied: charset_normalizer<4,>=2 in /usr/local/lib/python3.12/dist-packages (from requests) (3.4.3)\n",
            "Requirement already satisfied: idna<4,>=2.5 in /usr/local/lib/python3.12/dist-packages (from requests) (3.10)\n",
            "Requirement already satisfied: urllib3<3,>=1.21.1 in /usr/local/lib/python3.12/dist-packages (from requests) (2.5.0)\n",
            "Requirement already satisfied: certifi>=2017.4.17 in /usr/local/lib/python3.12/dist-packages (from requests) (2025.8.3)\n",
            "Requirement already satisfied: soupsieve>1.2 in /usr/local/lib/python3.12/dist-packages (from beautifulsoup4) (2.8)\n",
            "Requirement already satisfied: typing-extensions>=4.0.0 in /usr/local/lib/python3.12/dist-packages (from beautifulsoup4) (4.15.0)\n",
            "Requirement already satisfied: click in /usr/local/lib/python3.12/dist-packages (from nltk) (8.2.1)\n",
            "Requirement already satisfied: joblib in /usr/local/lib/python3.12/dist-packages (from nltk) (1.5.2)\n",
            "Requirement already satisfied: regex>=2021.8.3 in /usr/local/lib/python3.12/dist-packages (from nltk) (2024.11.6)\n",
            "Requirement already satisfied: tqdm in /usr/local/lib/python3.12/dist-packages (from nltk) (4.67.1)\n",
            "Requirement already satisfied: cffi>=1.12.0 in /usr/local/lib/python3.12/dist-packages (from curl_cffi>=0.7->yfinance) (2.0.0)\n",
            "Requirement already satisfied: six>=1.5 in /usr/local/lib/python3.12/dist-packages (from python-dateutil>=2.8.2->pandas) (1.17.0)\n",
            "Requirement already satisfied: pycparser in /usr/local/lib/python3.12/dist-packages (from cffi>=1.12.0->curl_cffi>=0.7->yfinance) (2.23)\n"
          ]
        }
      ],
      "source": [
        "# ===========================\n",
        "# 📦 Install Dependencies\n",
        "# ===========================\n",
        "!pip install yfinance pandas requests beautifulsoup4 nltk"
      ],
      "id": "BBvh0tHt5RWj"
    },
    {
      "cell_type": "code",
      "execution_count": null,
      "metadata": {
        "colab": {
          "base_uri": "https://localhost:8080/"
        },
        "id": "E8nZsjh35RWm",
        "outputId": "13964356-edce-4d79-b8c6-7835f554a7c5"
      },
      "outputs": [
        {
          "output_type": "stream",
          "name": "stderr",
          "text": [
            "[nltk_data] Downloading package vader_lexicon to /root/nltk_data...\n"
          ]
        },
        {
          "output_type": "execute_result",
          "data": {
            "text/plain": [
              "True"
            ]
          },
          "metadata": {},
          "execution_count": 3
        }
      ],
      "source": [
        "# ===========================\n",
        "# 📚 Import Libraries\n",
        "# ===========================\n",
        "import yfinance as yf\n",
        "import pandas as pd\n",
        "import requests\n",
        "from bs4 import BeautifulSoup\n",
        "from nltk.sentiment.vader import SentimentIntensityAnalyzer\n",
        "from email.mime.multipart import MIMEMultipart\n",
        "from email.mime.text import MIMEText\n",
        "import smtplib\n",
        "import datetime\n",
        "import nltk\n",
        "\n",
        "# Download VADER lexicon for sentiment\n",
        "nltk.download(\"vader_lexicon\")"
      ],
      "id": "E8nZsjh35RWm"
    },
    {
      "cell_type": "code",
      "execution_count": null,
      "metadata": {
        "id": "UT-hY9Ea5RWn"
      },
      "outputs": [],
      "source": [
        "# ===========================\n",
        "# ⚙️ Configuration\n",
        "# ===========================\n",
        "\n",
        "EMAIL_SENDER = \"ezhiln03s28@gmail.com\"\n",
        "EMAIL_PASSWORD = \"zxlitalbbzfeiklk\"   # ⚠️ Use Gmail App Password, not your normal password\n",
        "EMAIL_RECEIVER = \"ezhilneng@gmail.com\"\n",
        "\n",
        "# NSE/BSE sample symbols – expand this list\n",
        "MARKET_SYMBOLS = [\n",
        "    \"RELIANCE.NS\",\"TCS.NS\",\"HDFCBANK.NS\",\"INFY.NS\",\"ICICIBANK.NS\"\n",
        "]\n",
        "\n",
        "# RSS feeds for Indian market news\n",
        "NEWS_SOURCES = [\n",
        "    \"https://economictimes.indiatimes.com/markets/rssfeeds/1977021501.cms\",\n",
        "    \"https://www.business-standard.com/rss/latest.rss\",\n",
        "    \"https://www.livemint.com/rss/markets\"\n",
        "]\n",
        "\n",
        "TOP_N = 50"
      ],
      "id": "UT-hY9Ea5RWn"
    },
    {
      "cell_type": "code",
      "execution_count": null,
      "metadata": {
        "id": "ZyINn7Fe5RWo"
      },
      "outputs": [],
      "source": [
        "# ===========================\n",
        "# 📊 Stock Data Collection\n",
        "# ===========================\n",
        "def get_stock_data(symbols):\n",
        "    data = []\n",
        "    for sym in symbols:\n",
        "        try:\n",
        "            stock = yf.Ticker(sym)\n",
        "            hist = stock.history(period=\"1d\")\n",
        "            if not hist.empty:\n",
        "                close = hist[\"Close\"].iloc[-1]\n",
        "                openp = hist[\"Open\"].iloc[-1]\n",
        "                volume = hist[\"Volume\"].iloc[-1]\n",
        "                change = ((close - openp) / openp) * 100\n",
        "                data.append([sym, close, change, volume])\n",
        "        except Exception as e:\n",
        "            print(f\"⚠️ Error fetching {sym}: {e}\")\n",
        "    df = pd.DataFrame(data, columns=[\"Symbol\",\"Close\",\"%Change\",\"Volume\"])\n",
        "    gainers = df.sort_values(\"%Change\", ascending=False).head(TOP_N)\n",
        "    losers = df.sort_values(\"%Change\", ascending=True).head(TOP_N)\n",
        "    volume = df.sort_values(\"Volume\", ascending=False).head(TOP_N)\n",
        "    return gainers, losers, volume"
      ],
      "id": "ZyINn7Fe5RWo"
    },
    {
      "cell_type": "code",
      "execution_count": null,
      "metadata": {
        "id": "zS0BuCHK5RWo"
      },
      "outputs": [],
      "source": [
        "# ===========================\n",
        "# 📰 News Data Collection\n",
        "# ===========================\n",
        "def fetch_news():\n",
        "    headlines = []\n",
        "    for url in NEWS_SOURCES:\n",
        "        try:\n",
        "            resp = requests.get(url, timeout=10)\n",
        "            soup = BeautifulSoup(resp.content, \"xml\")\n",
        "            items = soup.find_all(\"item\")\n",
        "            for it in items:\n",
        "                headlines.append({\n",
        "                    \"title\": it.title.text,\n",
        "                    \"link\": it.link.text\n",
        "                })\n",
        "        except Exception as e:\n",
        "            print(f\"⚠️ Error fetching news: {e}\")\n",
        "    return headlines[:500]"
      ],
      "id": "zS0BuCHK5RWo"
    },
    {
      "cell_type": "code",
      "execution_count": null,
      "metadata": {
        "id": "VgvtPVLL5RWp"
      },
      "outputs": [],
      "source": [
        "# ===========================\n",
        "# 😊 Sentiment & Categorization\n",
        "# ===========================\n",
        "def analyze_news(headlines):\n",
        "    sid = SentimentIntensityAnalyzer()\n",
        "    positive, negative, business, govt = [], [], [], []\n",
        "    for h in headlines:\n",
        "        score = sid.polarity_scores(h[\"title\"])[\"compound\"]\n",
        "        if score > 0.5:\n",
        "            positive.append(h)\n",
        "        elif score < -0.5:\n",
        "            negative.append(h)\n",
        "        text = h[\"title\"].lower()\n",
        "        if any(k in text for k in [\"quarterly\",\"merger\",\"acquisition\",\"results\",\"finance\",\"ipo\"]):\n",
        "            business.append(h)\n",
        "        if any(k in text for k in [\"rbi\",\"sebi\",\"policy\",\"tax\",\"budget\",\"ministry\",\"fdi\"]):\n",
        "            govt.append(h)\n",
        "    return positive[:TOP_N], negative[:TOP_N], business[:TOP_N], govt[:TOP_N]"
      ],
      "id": "VgvtPVLL5RWp"
    },
    {
      "cell_type": "code",
      "execution_count": null,
      "metadata": {
        "id": "Vs9K50a15RWp"
      },
      "outputs": [],
      "source": [
        "# ===========================\n",
        "# 📝 Report Formatting (HTML)\n",
        "# ===========================\n",
        "def format_html(gainers, losers, volume, pos, neg, biz, govt):\n",
        "    today = datetime.date.today().strftime(\"%d-%b-%Y\")\n",
        "\n",
        "    def make_list(data):\n",
        "        if isinstance(data, pd.DataFrame):\n",
        "            return data.to_html(index=False, border=0)\n",
        "        else:\n",
        "            return \"<ul>\" + \"\".join([f\"<li><a href='{d['link']}'>{d['title']}</a></li>\" for d in data]) + \"</ul>\"\n",
        "\n",
        "    html = f\"\"\"\n",
        "    <h2>Daily India Market Snapshot – {today}</h2>\n",
        "    <h3>Top {TOP_N} Gainers</h3>{make_list(gainers)}\n",
        "    <h3>Top {TOP_N} Losers</h3>{make_list(losers)}\n",
        "    <h3>Top {TOP_N} Most Traded</h3>{make_list(volume)}\n",
        "    <h3>Top {TOP_N} Positive News</h3>{make_list(pos)}\n",
        "    <h3>Top {TOP_N} Negative News</h3>{make_list(neg)}\n",
        "    <h3>Top {TOP_N} Business News</h3>{make_list(biz)}\n",
        "    <h3>Top {TOP_N} Government/Regulatory News</h3>{make_list(govt)}\n",
        "    \"\"\"\n",
        "    return html"
      ],
      "id": "Vs9K50a15RWp"
    },
    {
      "cell_type": "code",
      "execution_count": null,
      "metadata": {
        "id": "JK4L45UH5RWp"
      },
      "outputs": [],
      "source": [
        "# ===========================\n",
        "# 📧 Send Email\n",
        "# ===========================\n",
        "def send_email(subject, body):\n",
        "    msg = MIMEMultipart(\"alternative\")\n",
        "    msg[\"Subject\"] = subject\n",
        "    msg[\"From\"] = EMAIL_SENDER\n",
        "    msg[\"To\"] = EMAIL_RECEIVER\n",
        "    msg.attach(MIMEText(body, \"html\"))\n",
        "\n",
        "    with smtplib.SMTP_SSL(\"smtp.gmail.com\", 465) as server:\n",
        "        server.login(EMAIL_SENDER, EMAIL_PASSWORD)\n",
        "        server.sendmail(EMAIL_SENDER, EMAIL_RECEIVER, msg.as_string())"
      ],
      "id": "JK4L45UH5RWp"
    },
    {
      "cell_type": "code",
      "execution_count": null,
      "metadata": {
        "colab": {
          "base_uri": "https://localhost:8080/"
        },
        "id": "AUzOQEaT5RWp",
        "outputId": "3f07da95-e36c-47b6-e166-2afa211d5791"
      },
      "outputs": [
        {
          "output_type": "stream",
          "name": "stdout",
          "text": [
            "✅ Report Sent Successfully!\n"
          ]
        }
      ],
      "source": [
        "# ===========================\n",
        "# ▶️ Run the Agent\n",
        "# ===========================\n",
        "def main():\n",
        "    gainers, losers, volume = get_stock_data(MARKET_SYMBOLS)\n",
        "    headlines = fetch_news()\n",
        "    pos, neg, biz, govt = analyze_news(headlines)\n",
        "    html_report = format_html(gainers, losers, volume, pos, neg, biz, govt)\n",
        "    send_email(\"Daily India Market Snapshot – \" + str(datetime.date.today()), html_report)\n",
        "    print(\"✅ Report Sent Successfully!\")\n",
        "\n",
        "main()"
      ],
      "id": "AUzOQEaT5RWp"
    }
  ],
  "metadata": {
    "kernelspec": {
      "display_name": "Python 3",
      "language": "python",
      "name": "python3"
    },
    "language_info": {
      "name": "python",
      "version": "3.9"
    },
    "colab": {
      "provenance": [],
      "include_colab_link": true
    }
  },
  "nbformat": 4,
  "nbformat_minor": 5
}